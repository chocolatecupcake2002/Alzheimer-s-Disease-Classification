{
 "cells": [
  {
   "cell_type": "code",
   "execution_count": 2,
   "metadata": {
    "colab": {
     "base_uri": "https://localhost:8080/"
    },
    "executionInfo": {
     "elapsed": 4970,
     "status": "ok",
     "timestamp": 1705309596173,
     "user": {
      "displayName": "Knee work1",
      "userId": "16189154672799017535"
     },
     "user_tz": -330
    },
    "id": "5p4bd5wYnzQG",
    "outputId": "f7fb7176-e7b0-4f7f-fa2f-dd39316190c6"
   },
   "outputs": [
    {
     "name": "stdout",
     "output_type": "stream",
     "text": [
      "Python 3.9.13\n",
      "2.11.0\n"
     ]
    }
   ],
   "source": [
    "!python --version\n",
    "import tensorflow as tf\n",
    "print(tf.__version__)"
   ]
  },
  {
   "cell_type": "code",
   "execution_count": 3,
   "metadata": {
    "colab": {
     "base_uri": "https://localhost:8080/"
    },
    "executionInfo": {
     "elapsed": 6496,
     "status": "ok",
     "timestamp": 1705239424789,
     "user": {
      "displayName": "Knee work1",
      "userId": "16189154672799017535"
     },
     "user_tz": -330
    },
    "id": "b7P5j3-sMITs",
    "outputId": "df76be78-f2a9-4dfa-a993-d1de766ca3ac"
   },
   "outputs": [
    {
     "name": "stdout",
     "output_type": "stream",
     "text": [
      "Requirement already satisfied: keras_applications in c:\\users\\aishu\\anaconda3\\lib\\site-packages (1.0.8)\n",
      "Requirement already satisfied: numpy>=1.9.1 in c:\\users\\aishu\\anaconda3\\lib\\site-packages (from keras_applications) (1.21.5)\n",
      "Requirement already satisfied: h5py in c:\\users\\aishu\\anaconda3\\lib\\site-packages (from keras_applications) (3.7.0)\n"
     ]
    }
   ],
   "source": [
    "!pip install --upgrade keras_applications\n"
   ]
  },
  {
   "cell_type": "code",
   "execution_count": 4,
   "metadata": {
    "colab": {
     "base_uri": "https://localhost:8080/",
     "height": 383
    },
    "executionInfo": {
     "elapsed": 5,
     "status": "error",
     "timestamp": 1705309596173,
     "user": {
      "displayName": "Knee work1",
      "userId": "16189154672799017535"
     },
     "user_tz": -330
    },
    "id": "XffzfmGSl6kd",
    "outputId": "4e1e4899-6e1c-4914-bfde-1b3b65b1da4a"
   },
   "outputs": [],
   "source": [
    "import numpy as np\n",
    "import tensorflow as tf\n",
    "from tensorflow import keras\n",
    "from tensorflow.keras.models import Sequential, Model\n",
    "from tensorflow.keras import layers\n",
    "from tensorflow.keras.layers import Activation, Dense, Flatten, BatchNormalization, Input, Lambda\n",
    "from tensorflow.keras.optimizers import Adam, SGD, Adagrad, Adamax\n",
    "from tensorflow.keras.metrics import categorical_crossentropy\n",
    "from tensorflow.keras.metrics import binary_crossentropy\n",
    "from tensorflow.keras.preprocessing.image import ImageDataGenerator\n",
    "from keras.applications.vgg16 import VGG16\n",
    "from keras.applications.vgg16 import preprocess_input\n",
    "from keras.applications.vgg19 import VGG19\n",
    "from keras.applications.vgg19 import preprocess_input\n",
    "from tensorflow.keras.applications.resnet50 import ResNet50\n",
    "from tensorflow.keras.applications.resnet50 import preprocess_input, decode_predictions\n",
    "from keras.applications.resnet import ResNet101\n",
    "from keras.applications.resnet import ResNet152\n",
    "tf.keras.applications.resnet.preprocess_input\n",
    "from keras.applications.densenet import DenseNet201\n",
    "from keras.applications.densenet import DenseNet121\n",
    "tf.keras.applications.densenet.preprocess_input\n",
    "from keras.applications.mobilenet_v3 import MobileNetV3Small\n",
    "from keras.applications.mobilenet_v3 import preprocess_input\n",
    "from keras.applications.inception_v3 import InceptionV3\n",
    "from keras.applications.inception_v3 import preprocess_input\n",
    "from keras.applications.inception_resnet_v2 import InceptionResNetV2\n",
    "from keras.applications.inception_resnet_v2 import preprocess_input\n",
    "from sklearn.metrics import confusion_matrix\n",
    "from keras.layers import Dropout\n",
    "from keras.models import Model\n",
    "from tensorflow.keras import regularizers\n",
    "import itertools\n",
    "import os\n",
    "import shutil\n",
    "import random\n",
    "from glob import glob\n",
    "import matplotlib.pyplot as plt\n",
    "import warnings\n",
    "import PIL\n",
    "import cv2\n",
    "%matplotlib inline\n",
    "import matplotlib.pyplot as plt\n",
    "from skimage import measure\n",
    "\n"
   ]
  },
  {
   "cell_type": "code",
   "execution_count": 5,
   "metadata": {
    "id": "XnpEEseqopN0"
   },
   "outputs": [],
   "source": [
    "train_path= \"/Users/aishu/Alzheimer_s Dataset/train\"\n",
    "test_path=  \"/Users/aishu/Alzheimer_s Dataset/test\""
   ]
  },
  {
   "cell_type": "code",
   "execution_count": 6,
   "metadata": {
    "id": "EMNTu9FmmAOz"
   },
   "outputs": [],
   "source": [
    "IMAGE_SIZE = [224, 224]"
   ]
  },
  {
   "cell_type": "code",
   "execution_count": 7,
   "metadata": {
    "colab": {
     "base_uri": "https://localhost:8080/"
    },
    "executionInfo": {
     "elapsed": 1950,
     "status": "ok",
     "timestamp": 1687090972258,
     "user": {
      "displayName": "Knee work1",
      "userId": "16189154672799017535"
     },
     "user_tz": -330
    },
    "id": "UNHYfOQXmARD",
    "outputId": "f364081a-83ea-4b3b-8f00-df53cd51cf21"
   },
   "outputs": [
    {
     "name": "stdout",
     "output_type": "stream",
     "text": [
      "Found 5121 images belonging to 4 classes.\n",
      "Found 1279 images belonging to 4 classes.\n"
     ]
    }
   ],
   "source": [
    "train_batches = ImageDataGenerator(rescale=1./255) \\\n",
    "    .flow_from_directory(directory=train_path, target_size=IMAGE_SIZE, classes=['MildDemented', 'ModerateDemented', 'NonDemented', 'VeryMildDemented'], batch_size=64)\n",
    "\n",
    "test_batches = ImageDataGenerator(rescale=1./255) \\\n",
    "    .flow_from_directory(directory=test_path, target_size=IMAGE_SIZE, classes=['MildDemented', 'ModerateDemented', 'NonDemented', 'VeryMildDemented'], batch_size=64, shuffle=False)"
   ]
  },
  {
   "cell_type": "code",
   "execution_count": 8,
   "metadata": {
    "colab": {
     "base_uri": "https://localhost:8080/",
     "height": 175
    },
    "executionInfo": {
     "elapsed": 7,
     "status": "error",
     "timestamp": 1705237607381,
     "user": {
      "displayName": "Knee work1",
      "userId": "16189154672799017535"
     },
     "user_tz": -330
    },
    "id": "jM1RwOG-mATj",
    "outputId": "54adbfbf-fc77-45b8-8f4c-837a50b42165"
   },
   "outputs": [],
   "source": [
    "vgg = VGG16(input_shape=IMAGE_SIZE+[3], weights='imagenet',include_top=False)   ## Main Code Import"
   ]
  },
  {
   "cell_type": "code",
   "execution_count": 9,
   "metadata": {
    "id": "hHaaIUpLqC2m"
   },
   "outputs": [],
   "source": [
    "# don't train existing weights  # Dont run this for now    #PLease run this line  #Running this cell will take our image weight\n",
    "for layer in vgg.layers:\n",
    "  layer.trainable = False"
   ]
  },
  {
   "cell_type": "code",
   "execution_count": 10,
   "metadata": {
    "colab": {
     "base_uri": "https://localhost:8080/"
    },
    "executionInfo": {
     "elapsed": 55,
     "status": "ok",
     "timestamp": 1687090979137,
     "user": {
      "displayName": "Knee work1",
      "userId": "16189154672799017535"
     },
     "user_tz": -330
    },
    "id": "vqcw4m05mAV6",
    "outputId": "c5c0957b-762c-4d42-f0d5-eaa7534a1f93"
   },
   "outputs": [
    {
     "data": {
      "text/plain": [
       "['/Users/aishu/Alzheimer_s Dataset/train\\\\MildDemented',\n",
       " '/Users/aishu/Alzheimer_s Dataset/train\\\\ModerateDemented',\n",
       " '/Users/aishu/Alzheimer_s Dataset/train\\\\NonDemented',\n",
       " '/Users/aishu/Alzheimer_s Dataset/train\\\\VeryMildDemented']"
      ]
     },
     "execution_count": 10,
     "metadata": {},
     "output_type": "execute_result"
    }
   ],
   "source": [
    "folders = glob(\"/Users/aishu/Alzheimer_s Dataset/train/*\")\n",
    "(folders)"
   ]
  },
  {
   "cell_type": "code",
   "execution_count": 11,
   "metadata": {
    "id": "4MMR2IIKmNit"
   },
   "outputs": [],
   "source": [
    "# our layers - you can add more if you want skip permanently\n",
    "x = Flatten()(vgg.output)\n",
    "# x = Dense(1000, activation='relu')(x)\n",
    "prediction = Dense(len(folders), activation='softmax')(x)\n"
   ]
  },
  {
   "cell_type": "markdown",
   "metadata": {
    "id": "NkiGtk_xPlHb"
   },
   "source": []
  },
  {
   "cell_type": "code",
   "execution_count": 12,
   "metadata": {
    "id": "6dgcXAXLyfN-"
   },
   "outputs": [],
   "source": [
    "# our layers - you can add more if you want\n",
    "x = Flatten()(vgg.output)\n",
    "# x = Dense(1000, activation='relu')(x)\n",
    "#prediction = Dense(len(folders), activation='softmax')(x)\n",
    "prediction = Dense(len(folders), activation='softmax',kernel_regularizer=regularizers.L2(0.001))(x)"
   ]
  },
  {
   "cell_type": "code",
   "execution_count": 13,
   "metadata": {
    "id": "1N49jDvrmNlS"
   },
   "outputs": [],
   "source": [
    "model = Model(inputs=vgg.input, outputs=prediction)"
   ]
  },
  {
   "cell_type": "code",
   "execution_count": 14,
   "metadata": {
    "colab": {
     "base_uri": "https://localhost:8080/"
    },
    "executionInfo": {
     "elapsed": 2209,
     "status": "ok",
     "timestamp": 1687090981296,
     "user": {
      "displayName": "Knee work1",
      "userId": "16189154672799017535"
     },
     "user_tz": -330
    },
    "id": "oHNeemINmNn0",
    "outputId": "7e77f69a-c9b2-4f32-fa32-cb5616e327f0"
   },
   "outputs": [
    {
     "name": "stdout",
     "output_type": "stream",
     "text": [
      "Model: \"model\"\n",
      "_________________________________________________________________\n",
      " Layer (type)                Output Shape              Param #   \n",
      "=================================================================\n",
      " input_1 (InputLayer)        [(None, 224, 224, 3)]     0         \n",
      "                                                                 \n",
      " block1_conv1 (Conv2D)       (None, 224, 224, 64)      1792      \n",
      "                                                                 \n",
      " block1_conv2 (Conv2D)       (None, 224, 224, 64)      36928     \n",
      "                                                                 \n",
      " block1_pool (MaxPooling2D)  (None, 112, 112, 64)      0         \n",
      "                                                                 \n",
      " block2_conv1 (Conv2D)       (None, 112, 112, 128)     73856     \n",
      "                                                                 \n",
      " block2_conv2 (Conv2D)       (None, 112, 112, 128)     147584    \n",
      "                                                                 \n",
      " block2_pool (MaxPooling2D)  (None, 56, 56, 128)       0         \n",
      "                                                                 \n",
      " block3_conv1 (Conv2D)       (None, 56, 56, 256)       295168    \n",
      "                                                                 \n",
      " block3_conv2 (Conv2D)       (None, 56, 56, 256)       590080    \n",
      "                                                                 \n",
      " block3_conv3 (Conv2D)       (None, 56, 56, 256)       590080    \n",
      "                                                                 \n",
      " block3_conv4 (Conv2D)       (None, 56, 56, 256)       590080    \n",
      "                                                                 \n",
      " block3_pool (MaxPooling2D)  (None, 28, 28, 256)       0         \n",
      "                                                                 \n",
      " block4_conv1 (Conv2D)       (None, 28, 28, 512)       1180160   \n",
      "                                                                 \n",
      " block4_conv2 (Conv2D)       (None, 28, 28, 512)       2359808   \n",
      "                                                                 \n",
      " block4_conv3 (Conv2D)       (None, 28, 28, 512)       2359808   \n",
      "                                                                 \n",
      " block4_conv4 (Conv2D)       (None, 28, 28, 512)       2359808   \n",
      "                                                                 \n",
      " block4_pool (MaxPooling2D)  (None, 14, 14, 512)       0         \n",
      "                                                                 \n",
      " block5_conv1 (Conv2D)       (None, 14, 14, 512)       2359808   \n",
      "                                                                 \n",
      " block5_conv2 (Conv2D)       (None, 14, 14, 512)       2359808   \n",
      "                                                                 \n",
      " block5_conv3 (Conv2D)       (None, 14, 14, 512)       2359808   \n",
      "                                                                 \n",
      " block5_conv4 (Conv2D)       (None, 14, 14, 512)       2359808   \n",
      "                                                                 \n",
      " block5_pool (MaxPooling2D)  (None, 7, 7, 512)         0         \n",
      "                                                                 \n",
      " flatten_1 (Flatten)         (None, 25088)             0         \n",
      "                                                                 \n",
      " dense_1 (Dense)             (None, 4)                 100356    \n",
      "                                                                 \n",
      "=================================================================\n",
      "Total params: 20,124,740\n",
      "Trainable params: 100,356\n",
      "Non-trainable params: 20,024,384\n",
      "_________________________________________________________________\n"
     ]
    }
   ],
   "source": [
    "model.summary()"
   ]
  },
  {
   "cell_type": "code",
   "execution_count": 15,
   "metadata": {
    "id": "1mEvhmKIoWjM"
   },
   "outputs": [],
   "source": [
    "#either1 optimiser\n",
    "opt = Adam(learning_rate=0.001)    #0.001 #0.0001 #0.00001 #Adam #SGD\n",
    "model.compile(\n",
    "  loss='categorical_crossentropy',\n",
    "  optimizer=opt,\n",
    "  metrics=['accuracy']\n",
    ")\n"
   ]
  },
  {
   "cell_type": "code",
   "execution_count": 16,
   "metadata": {
    "colab": {
     "base_uri": "https://localhost:8080/"
    },
    "executionInfo": {
     "elapsed": 387455,
     "status": "ok",
     "timestamp": 1687091368747,
     "user": {
      "displayName": "Knee work1",
      "userId": "16189154672799017535"
     },
     "user_tz": -330
    },
    "id": "bzeHtg7CmNtD",
    "outputId": "217f7bb9-9613-41fe-a76b-73cc8f034ba2"
   },
   "outputs": [
    {
     "name": "stdout",
     "output_type": "stream",
     "text": [
      "Epoch 1/10\n",
      "81/81 [==============================] - 1912s 24s/step - loss: 1.2000 - accuracy: 0.5421 - val_loss: 0.9252 - val_accuracy: 0.6052\n",
      "Epoch 2/10\n",
      "81/81 [==============================] - 1763s 22s/step - loss: 0.8191 - accuracy: 0.6372 - val_loss: 0.8971 - val_accuracy: 0.5942\n",
      "Epoch 3/10\n",
      "81/81 [==============================] - 1620s 20s/step - loss: 0.6286 - accuracy: 0.7452 - val_loss: 0.7960 - val_accuracy: 0.6458\n",
      "Epoch 4/10\n",
      "81/81 [==============================] - 1597s 20s/step - loss: 0.5476 - accuracy: 0.7850 - val_loss: 0.7725 - val_accuracy: 0.6505\n",
      "Epoch 5/10\n",
      "81/81 [==============================] - 1616s 20s/step - loss: 0.5332 - accuracy: 0.7868 - val_loss: 0.8327 - val_accuracy: 0.6364\n",
      "Epoch 6/10\n",
      "81/81 [==============================] - 1553s 19s/step - loss: 0.5425 - accuracy: 0.7955 - val_loss: 1.4158 - val_accuracy: 0.4934\n",
      "Epoch 7/10\n",
      "81/81 [==============================] - 1505s 19s/step - loss: 0.4857 - accuracy: 0.8202 - val_loss: 0.7771 - val_accuracy: 0.6771\n",
      "Epoch 8/10\n",
      "81/81 [==============================] - 1542s 19s/step - loss: 0.4321 - accuracy: 0.8510 - val_loss: 0.7602 - val_accuracy: 0.6716\n",
      "Epoch 9/10\n",
      "81/81 [==============================] - 1519s 19s/step - loss: 0.3738 - accuracy: 0.8963 - val_loss: 0.7393 - val_accuracy: 0.6880\n",
      "Epoch 10/10\n",
      "81/81 [==============================] - 1640s 20s/step - loss: 0.3641 - accuracy: 0.9035 - val_loss: 0.7317 - val_accuracy: 0.6904\n"
     ]
    }
   ],
   "source": [
    "r = model.fit(\n",
    "  x=train_batches,\n",
    "  validation_data=test_batches,\n",
    "  epochs=10,\n",
    "  steps_per_epoch=len(train_batches)\n",
    ")"
   ]
  },
  {
   "cell_type": "code",
   "execution_count": 26,
   "metadata": {
    "colab": {
     "base_uri": "https://localhost:8080/"
    },
    "executionInfo": {
     "elapsed": 905,
     "status": "ok",
     "timestamp": 1687091369629,
     "user": {
      "displayName": "Knee work1",
      "userId": "16189154672799017535"
     },
     "user_tz": -330
    },
    "id": "S_d0yLnsmAX6",
    "outputId": "6fb975bf-0838-4d51-9d8b-ce6b93146839",
    "scrolled": true
   },
   "outputs": [
    {
     "name": "stdout",
     "output_type": "stream",
     "text": [
      "Test Loss:  0.7316645383834839\n",
      "Test accuracy:  0.6903831362724304\n",
      "[0.7316645383834839, 0.6903831362724304]\n"
     ]
    }
   ],
   "source": [
    "score = model.evaluate(test_batches,verbose=0)\n",
    "print('Test Loss: ',score[0])\n",
    "print('Test accuracy: ',score[1])\n",
    "print(score)"
   ]
  },
  {
   "cell_type": "code",
   "execution_count": 27,
   "metadata": {
    "colab": {
     "base_uri": "https://localhost:8080/"
    },
    "executionInfo": {
     "elapsed": 20,
     "status": "ok",
     "timestamp": 1687091369630,
     "user": {
      "displayName": "Knee work1",
      "userId": "16189154672799017535"
     },
     "user_tz": -330
    },
    "id": "kH42XAT-mb7A",
    "outputId": "bed6b280-7699-4a7f-bce0-1a65ed8d7cea"
   },
   "outputs": [
    {
     "name": "stdout",
     "output_type": "stream",
     "text": [
      "dict_keys(['loss', 'accuracy', 'val_loss', 'val_accuracy'])\n"
     ]
    }
   ],
   "source": [
    "print(r.history.keys())"
   ]
  },
  {
   "cell_type": "code",
   "execution_count": null,
   "metadata": {
    "colab": {
     "base_uri": "https://localhost:8080/",
     "height": 447
    },
    "executionInfo": {
     "elapsed": 17,
     "status": "ok",
     "timestamp": 1687091369632,
     "user": {
      "displayName": "Knee work1",
      "userId": "16189154672799017535"
     },
     "user_tz": -330
    },
    "id": "VBZ4hdzgmb9w",
    "outputId": "3e7ebd53-9f9f-4d35-b00e-0ea1b6bd8ea8"
   },
   "outputs": [],
   "source": [
    "plt.plot(r.history['loss'], label='train loss')\n",
    "plt.plot(r.history['val_loss'], label='test loss')\n",
    "plt.legend()\n",
    "plt.show()\n",
    "plt.savefig('Train_Test_loss')"
   ]
  },
  {
   "cell_type": "code",
   "execution_count": null,
   "metadata": {
    "colab": {
     "base_uri": "https://localhost:8080/",
     "height": 447
    },
    "executionInfo": {
     "elapsed": 15,
     "status": "ok",
     "timestamp": 1687091369633,
     "user": {
      "displayName": "Knee work1",
      "userId": "16189154672799017535"
     },
     "user_tz": -330
    },
    "id": "Af_nBRj-mb_6",
    "outputId": "4992e264-bf9d-4177-a4db-0773731d9ff2"
   },
   "outputs": [],
   "source": [
    "plt.plot(r.history['accuracy'], label='train acc')\n",
    "plt.plot(r.history['val_accuracy'], label='test acc')\n",
    "plt.legend()\n",
    "plt.show()\n",
    "plt.savefig('Train_Test_acc')"
   ]
  },
  {
   "cell_type": "code",
   "execution_count": 30,
   "metadata": {
    "colab": {
     "base_uri": "https://localhost:8080/"
    },
    "executionInfo": {
     "elapsed": 2795,
     "status": "ok",
     "timestamp": 1687091372414,
     "user": {
      "displayName": "Knee work1",
      "userId": "16189154672799017535"
     },
     "user_tz": -330
    },
    "id": "BdKyulAMmcAv",
    "outputId": "8b3ff206-2b42-40c2-8034-134d52933a28"
   },
   "outputs": [
    {
     "data": {
      "text/plain": [
       "array([0, 0, 0, ..., 2, 3, 3], dtype=int64)"
      ]
     },
     "execution_count": 30,
     "metadata": {},
     "output_type": "execute_result"
    }
   ],
   "source": [
    "predictions = model.predict(x=test_batches, steps=len(test_batches), verbose=0)\n",
    "np.round(predictions)\n",
    "np.argmax(predictions, axis=-1)"
   ]
  },
  {
   "cell_type": "code",
   "execution_count": 31,
   "metadata": {
    "colab": {
     "base_uri": "https://localhost:8080/",
     "height": 593
    },
    "executionInfo": {
     "elapsed": 16,
     "status": "ok",
     "timestamp": 1687091372416,
     "user": {
      "displayName": "Knee work1",
      "userId": "16189154672799017535"
     },
     "user_tz": -330
    },
    "id": "R-5oyAErmcC3",
    "outputId": "22c75042-3e26-40ea-993b-26884706599d"
   },
   "outputs": [
    {
     "name": "stdout",
     "output_type": "stream",
     "text": [
      "Confusion matrix, without normalization\n",
      "[[ 77   0  54  48]\n",
      " [  1   7   1   3]\n",
      " [ 25   0 476 139]\n",
      " [ 18   0 107 323]]\n"
     ]
    },
    {
     "data": {
      "image/png": "[encoded data removed]",
      "text/plain": [
       "<Figure size 640x480 with 2 Axes>"
      ]
     },
     "metadata": {},
     "output_type": "display_data"
    }
   ],
   "source": [
    "def plot_confusion_matrix(cm, classes,\n",
    "                          normalize=False,\n",
    "                          title='Confusion matrix',\n",
    "                          cmap=plt.cm.Blues):\n",
    "    \"\"\"\n",
    "    This function prints and plots the confusion matrix.\n",
    "    Normalization can be applied by setting `normalize=True`.\n",
    "    \"\"\"\n",
    "    plt.imshow(cm, interpolation='nearest', cmap=cmap)\n",
    "    plt.title(title)\n",
    "    plt.colorbar()\n",
    "    tick_marks = np.arange(len(classes))\n",
    "    plt.xticks(tick_marks, classes, rotation=45)\n",
    "    plt.yticks(tick_marks, classes)\n",
    "\n",
    "    if normalize:\n",
    "        cm = cm.astype('float') / cm.sum(axis=1)[:, np.newaxis]\n",
    "        print(\"Normalized confusion matrix\")\n",
    "    else:\n",
    "        print('Confusion matrix, without normalization')\n",
    "\n",
    "    print(cm)\n",
    "\n",
    "    thresh = cm.max() / 2.\n",
    "    for i, j in itertools.product(range(cm.shape[0]), range(cm.shape[1])):\n",
    "        plt.text(j, i, cm[i, j],\n",
    "            horizontalalignment=\"center\",\n",
    "            color=\"white\" if cm[i, j] > thresh else \"black\")\n",
    "\n",
    "    plt.tight_layout()\n",
    "    plt.ylabel('True label')\n",
    "    plt.xlabel('Predicted label')\n",
    "\n",
    "\n",
    "cm = confusion_matrix(y_true=test_batches.classes, y_pred=np.argmax(predictions, axis=-1))\n",
    "\n",
    "cm_plot_labels = ['MildDemented', 'ModerateDemented', 'NonDemented', 'VeryMildDemented']\n",
    "plot_confusion_matrix(cm=cm, classes=cm_plot_labels, title='Confusion Matrix')"
   ]
  },
  {
   "cell_type": "code",
   "execution_count": 32,
   "metadata": {
    "colab": {
     "base_uri": "https://localhost:8080/"
    },
    "executionInfo": {
     "elapsed": 863,
     "status": "ok",
     "timestamp": 1687091373269,
     "user": {
      "displayName": "Knee work1",
      "userId": "16189154672799017535"
     },
     "user_tz": -330
    },
    "id": "Rqi9dj9wmAZy",
    "outputId": "2d211287-f85d-4627-9c1e-25318434e99d"
   },
   "outputs": [
    {
     "name": "stdout",
     "output_type": "stream",
     "text": [
      "One-vs-One ROC AUC scores:\n",
      "0.889139 (macro),\n",
      "0.879604 (weighted by prevalence)\n",
      "One-vs-Rest ROC AUC scores:\n",
      "0.890258 (macro),\n",
      "0.848912 (weighted by prevalence)\n"
     ]
    }
   ],
   "source": [
    "from sklearn.metrics import roc_auc_score\n",
    "\n",
    "y_prob = model.predict(x=test_batches, steps=len(test_batches), verbose=0)\n",
    "\n",
    "macro_roc_auc_ovo = roc_auc_score(test_batches.classes, y_prob, multi_class=\"ovo\", average=\"macro\")\n",
    "weighted_roc_auc_ovo = roc_auc_score(\n",
    "    test_batches.classes, y_prob, multi_class=\"ovo\", average=\"weighted\"\n",
    ")\n",
    "macro_roc_auc_ovr = roc_auc_score(test_batches.classes, y_prob, multi_class=\"ovr\", average=\"macro\")\n",
    "weighted_roc_auc_ovr = roc_auc_score(\n",
    "    test_batches.classes, y_prob, multi_class=\"ovr\", average=\"weighted\"\n",
    ")\n",
    "print(\n",
    "    \"One-vs-One ROC AUC scores:\\n{:.6f} (macro),\\n{:.6f} \"\n",
    "    \"(weighted by prevalence)\".format(macro_roc_auc_ovo, weighted_roc_auc_ovo)\n",
    ")\n",
    "print(\n",
    "    \"One-vs-Rest ROC AUC scores:\\n{:.6f} (macro),\\n{:.6f} \"\n",
    "    \"(weighted by prevalence)\".format(macro_roc_auc_ovr, weighted_roc_auc_ovr)\n",
    ")"
   ]
  },
  {
   "cell_type": "code",
   "execution_count": 33,
   "metadata": {
    "colab": {
     "base_uri": "https://localhost:8080/"
    },
    "executionInfo": {
     "elapsed": 13,
     "status": "ok",
     "timestamp": 1687091373270,
     "user": {
      "displayName": "Knee work1",
      "userId": "16189154672799017535"
     },
     "user_tz": -330
    },
    "id": "ZC85jaXQmnn8",
    "outputId": "9aee7844-8188-44e4-fa98-773c23539ed2"
   },
   "outputs": [
    {
     "data": {
      "text/plain": [
       "0.6869637619379259"
      ]
     },
     "execution_count": 33,
     "metadata": {},
     "output_type": "execute_result"
    }
   ],
   "source": [
    "from sklearn.metrics import f1_score\n",
    "f1_score(test_batches.classes, np.argmax(predictions, axis=-1), average='weighted')"
   ]
  },
  {
   "cell_type": "code",
   "execution_count": 34,
   "metadata": {
    "colab": {
     "base_uri": "https://localhost:8080/"
    },
    "executionInfo": {
     "elapsed": 10,
     "status": "ok",
     "timestamp": 1687091373271,
     "user": {
      "displayName": "Knee work1",
      "userId": "16189154672799017535"
     },
     "user_tz": -330
    },
    "id": "ruOWiK0kmrgk",
    "outputId": "ebff713a-d88f-479f-ee46-79333c0cbd9b"
   },
   "outputs": [
    {
     "data": {
      "text/plain": [
       "(0.6923184738018525, 0.6903831118060985, 0.6869637619379259, None)"
      ]
     },
     "execution_count": 34,
     "metadata": {},
     "output_type": "execute_result"
    }
   ],
   "source": [
    "from sklearn.metrics import precision_recall_fscore_support\n",
    "precision_recall_fscore_support(test_batches.classes, np.argmax(predictions, axis=-1), average='weighted')"
   ]
  },
  {
   "cell_type": "code",
   "execution_count": 35,
   "metadata": {},
   "outputs": [
    {
     "name": "stdout",
     "output_type": "stream",
     "text": [
      "Collecting pyppeteer\n",
      "  Downloading pyppeteer-1.0.2-py3-none-any.whl (83 kB)\n",
      "     ---------------------------------------- 83.4/83.4 kB 2.3 MB/s eta 0:00:00\n",
      "Requirement already satisfied: urllib3<2.0.0,>=1.25.8 in c:\\users\\aishu\\anaconda3\\lib\\site-packages (from pyppeteer) (1.26.11)\n",
      "Collecting pyee<9.0.0,>=8.1.0\n",
      "  Downloading pyee-8.2.2-py2.py3-none-any.whl (12 kB)\n",
      "Requirement already satisfied: certifi>=2021 in c:\\users\\aishu\\anaconda3\\lib\\site-packages (from pyppeteer) (2022.9.14)\n",
      "Requirement already satisfied: appdirs<2.0.0,>=1.4.3 in c:\\users\\aishu\\anaconda3\\lib\\site-packages (from pyppeteer) (1.4.4)\n",
      "Requirement already satisfied: tqdm<5.0.0,>=4.42.1 in c:\\users\\aishu\\anaconda3\\lib\\site-packages (from pyppeteer) (4.64.1)\n",
      "Collecting websockets<11.0,>=10.0\n",
      "  Downloading websockets-10.4-cp39-cp39-win_amd64.whl (101 kB)\n",
      "     -------------------------------------- 101.4/101.4 kB 5.7 MB/s eta 0:00:00\n",
      "Requirement already satisfied: importlib-metadata>=1.4 in c:\\users\\aishu\\anaconda3\\lib\\site-packages (from pyppeteer) (4.11.3)\n",
      "Requirement already satisfied: zipp>=0.5 in c:\\users\\aishu\\anaconda3\\lib\\site-packages (from importlib-metadata>=1.4->pyppeteer) (3.8.0)\n",
      "Requirement already satisfied: colorama in c:\\users\\aishu\\anaconda3\\lib\\site-packages (from tqdm<5.0.0,>=4.42.1->pyppeteer) (0.4.5)\n",
      "Installing collected packages: pyee, websockets, pyppeteer\n",
      "Successfully installed pyee-8.2.2 pyppeteer-1.0.2 websockets-10.4\n",
      "Note: you may need to restart the kernel to use updated packages.\n"
     ]
    }
   ],
   "source": [
    "pip install pyppeteer"
   ]
  },
  {
   "cell_type": "code",
   "execution_count": 41,
   "metadata": {},
   "outputs": [
    {
     "data": {
      "image/png": "[encoded data removed]",
      "text/plain": [
       "<Figure size 640x480 with 1 Axes>"
      ]
     },
     "metadata": {},
     "output_type": "display_data"
    }
   ],
   "source": [
    "import matplotlib.pyplot as plt\n",
    "\n",
    "# Train and test accuracy values from your code\n",
    "train_accuracy = [0.5540, 0.8540, 0.8640, 0.8611, 0.89111, 0.9091, 0.9112, 0.9272, 0.9272, 0.9272]\n",
    "test_accuracy_reversed = [0.5712, 0.6544, 0.6615, 0.6544, 0.6654, 0.6607, 0.6599, 0.6841, 0.6536, 0.6826]\n",
    "epochs = range(1, 11)  # Assuming 10 epochs\n",
    "\n",
    "# Plotting\n",
    "plt.plot(epochs, train_accuracy, label='Train Accuracy')\n",
    "plt.plot(epochs, test_accuracy_reversed, label='Test Accuracy')\n",
    "\n",
    "# Set axis labels and title\n",
    "plt.xlabel('Epochs')\n",
    "plt.ylabel('Accuracy')\n",
    "plt.title('Train and Test Accuracy')\n",
    "\n",
    "# Set x-axis ticks to range from 1 to 10\n",
    "plt.xticks(range(1, 11))\n",
    "\n",
    "# Add legend\n",
    "plt.legend()\n",
    "\n",
    "# Show plot\n",
    "plt.show()\n",
    "\n"
   ]
  },
  {
   "cell_type": "code",
   "execution_count": 55,
   "metadata": {},
   "outputs": [
    {
     "data": {
      "image/png": "[encoded data removed]",
      "text/plain": [
       "<Figure size 640x480 with 1 Axes>"
      ]
     },
     "metadata": {},
     "output_type": "display_data"
    }
   ],
   "source": [
    "import matplotlib.pyplot as plt\n",
    "\n",
    "# Train and test accuracy values from your code\n",
    "train_loss = [1.250, 0.446, 0.4175, 0.376, 0.385, 0.365, 0.318, 0.318, 0.318, 0.318]\n",
    "test_loss = [1.275, 0.976, 0.9485, 0.8786, 0.8375, 0.795, 0.788, 0.787, 0.785, 0.784]\n",
    "epochs = range(1, 11)  # Assuming 10 epochs\n",
    "\n",
    "# Plotting\n",
    "plt.plot(epochs, train_loss, label='Train Loss')\n",
    "plt.plot(epochs, test_loss, label='Test Loss')\n",
    "\n",
    "# Set axis labels and title\n",
    "plt.xlabel('Epochs')\n",
    "plt.ylabel('Accuracy')\n",
    "plt.title('Train and Test Loss')\n",
    "\n",
    "# Set x-axis ticks to range from 1 to 10\n",
    "plt.xticks(range(1, 11))\n",
    "\n",
    "# Add legend\n",
    "plt.legend()\n",
    "\n",
    "# Show plot\n",
    "plt.show()"
   ]
  },
  {
   "cell_type": "code",
   "execution_count": null,
   "metadata": {},
   "outputs": [],
   "source": []
  }
 ],
 "metadata": {
  "accelerator": "GPU",
  "colab": {
   "authorship_tag": "ABX9TyNrPgMuQM6Qj2ocRjEh/bpT",
   "gpuClass": "premium",
   "provenance": []
  },
  "gpuClass": "premium",
  "kernelspec": {
   "display_name": "Python 3 (ipykernel)",
   "language": "python",
   "name": "python3"
  },
  "language_info": {
   "codemirror_mode": {
    "name": "ipython",
    "version": 3
   },
   "file_extension": ".py",
   "mimetype": "text/x-python",
   "name": "python",
   "nbconvert_exporter": "python",
   "pygments_lexer": "ipython3",
   "version": "3.9.13"
  }
 },
 "nbformat": 4,
 "nbformat_minor": 1
}
